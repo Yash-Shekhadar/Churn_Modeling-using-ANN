{
  "nbformat": 4,
  "nbformat_minor": 0,
  "metadata": {
    "colab": {
      "name": "Churn_modeling_ann.ipynb",
      "provenance": [],
      "collapsed_sections": []
    },
    "kernelspec": {
      "name": "python3",
      "display_name": "Python 3"
    }
  },
  "cells": [
    {
      "cell_type": "code",
      "metadata": {
        "id": "RgYlWG1jZM5p",
        "colab_type": "code",
        "colab": {}
      },
      "source": [
        "import numpy as np\n",
        "import matplotlib.pyplot as plt\n",
        "import pandas as pd"
      ],
      "execution_count": 0,
      "outputs": []
    },
    {
      "cell_type": "code",
      "metadata": {
        "id": "BN2Zqk2zZgD0",
        "colab_type": "code",
        "colab": {}
      },
      "source": [
        "dataset = pd.read_csv('Churn_Modelling.csv')"
      ],
      "execution_count": 0,
      "outputs": []
    },
    {
      "cell_type": "code",
      "metadata": {
        "id": "oP3xuOUsZjUZ",
        "colab_type": "code",
        "colab": {}
      },
      "source": [
        "X = dataset.iloc[:,3:13].values\n",
        "y = dataset.iloc[:,13].values"
      ],
      "execution_count": 0,
      "outputs": []
    },
    {
      "cell_type": "code",
      "metadata": {
        "id": "ZL5tqAEJZl4D",
        "colab_type": "code",
        "colab": {}
      },
      "source": [
        "from sklearn.preprocessing import LabelEncoder,OneHotEncoder"
      ],
      "execution_count": 0,
      "outputs": []
    },
    {
      "cell_type": "code",
      "metadata": {
        "id": "qYOI5A_veO7F",
        "colab_type": "code",
        "colab": {}
      },
      "source": [
        "leX1 =  LabelEncoder()\n",
        "leX2 = LabelEncoder()\n",
        "X[:,1] = leX1.fit_transform(X[:,1])"
      ],
      "execution_count": 0,
      "outputs": []
    },
    {
      "cell_type": "code",
      "metadata": {
        "id": "ufTYNpKneRiF",
        "colab_type": "code",
        "colab": {}
      },
      "source": [
        "X[:,2] = leX2.fit_transform(X[:,2])"
      ],
      "execution_count": 0,
      "outputs": []
    },
    {
      "cell_type": "code",
      "metadata": {
        "id": "-_ulAIeQeWml",
        "colab_type": "code",
        "outputId": "91ad2062-58cc-4eb7-d54d-bd73f04f8cad",
        "colab": {
          "base_uri": "https://localhost:8080/",
          "height": 139
        }
      },
      "source": [
        "oheX = OneHotEncoder(categorical_features=[1])\n",
        "X = oheX.fit_transform(X).toarray()"
      ],
      "execution_count": 0,
      "outputs": [
        {
          "output_type": "stream",
          "text": [
            "/usr/local/lib/python3.6/dist-packages/sklearn/preprocessing/_encoders.py:415: FutureWarning: The handling of integer data will change in version 0.22. Currently, the categories are determined based on the range [0, max(values)], while in the future they will be determined based on the unique values.\n",
            "If you want the future behaviour and silence this warning, you can specify \"categories='auto'\".\n",
            "In case you used a LabelEncoder before this OneHotEncoder to convert the categories to integers, then you can now use the OneHotEncoder directly.\n",
            "  warnings.warn(msg, FutureWarning)\n",
            "/usr/local/lib/python3.6/dist-packages/sklearn/preprocessing/_encoders.py:451: DeprecationWarning: The 'categorical_features' keyword is deprecated in version 0.20 and will be removed in 0.22. You can use the ColumnTransformer instead.\n",
            "  \"use the ColumnTransformer instead.\", DeprecationWarning)\n"
          ],
          "name": "stderr"
        }
      ]
    },
    {
      "cell_type": "code",
      "metadata": {
        "id": "980Qo6t9ea9B",
        "colab_type": "code",
        "colab": {}
      },
      "source": [
        "X = X[:,1:]"
      ],
      "execution_count": 0,
      "outputs": []
    },
    {
      "cell_type": "code",
      "metadata": {
        "id": "tV6lMWzOeezn",
        "colab_type": "code",
        "colab": {}
      },
      "source": [
        "from sklearn.model_selection import train_test_split"
      ],
      "execution_count": 0,
      "outputs": []
    },
    {
      "cell_type": "code",
      "metadata": {
        "id": "dP-B5bKaeh_w",
        "colab_type": "code",
        "colab": {}
      },
      "source": [
        "X_train,X_test,y_train,y_test = train_test_split(X,y,test_size= 0.2, random_state = 0)"
      ],
      "execution_count": 0,
      "outputs": []
    },
    {
      "cell_type": "code",
      "metadata": {
        "id": "XCVo2eXRfHnF",
        "colab_type": "code",
        "colab": {}
      },
      "source": [
        "from sklearn.preprocessing import StandardScaler"
      ],
      "execution_count": 0,
      "outputs": []
    },
    {
      "cell_type": "code",
      "metadata": {
        "id": "ugjhWXzlfJJa",
        "colab_type": "code",
        "colab": {}
      },
      "source": [
        "sc = StandardScaler()\n",
        "X_train = sc.fit_transform(X_train)\n",
        "X_test = sc.transform(X_test)"
      ],
      "execution_count": 0,
      "outputs": []
    },
    {
      "cell_type": "code",
      "metadata": {
        "id": "YRr8FZTwfMm6",
        "colab_type": "code",
        "outputId": "db10e74d-b4f6-43f3-9d11-cc3f0c6057de",
        "colab": {
          "base_uri": "https://localhost:8080/",
          "height": 97
        }
      },
      "source": [
        "import keras"
      ],
      "execution_count": 0,
      "outputs": [
        {
          "output_type": "stream",
          "text": [
            "Using TensorFlow backend.\n"
          ],
          "name": "stderr"
        },
        {
          "output_type": "display_data",
          "data": {
            "text/html": [
              "<p style=\"color: red;\">\n",
              "The default version of TensorFlow in Colab will soon switch to TensorFlow 2.x.<br>\n",
              "We recommend you <a href=\"https://www.tensorflow.org/guide/migrate\" target=\"_blank\">upgrade</a> now \n",
              "or ensure your notebook will continue to use TensorFlow 1.x via the <code>%tensorflow_version 1.x</code> magic:\n",
              "<a href=\"https://colab.research.google.com/notebooks/tensorflow_version.ipynb\" target=\"_blank\">more info</a>.</p>\n"
            ],
            "text/plain": [
              "<IPython.core.display.HTML object>"
            ]
          },
          "metadata": {
            "tags": []
          }
        }
      ]
    },
    {
      "cell_type": "code",
      "metadata": {
        "id": "zsXttY-2fp0a",
        "colab_type": "code",
        "colab": {}
      },
      "source": [
        "from keras.models import Sequential\n",
        "from keras.layers import  Dense"
      ],
      "execution_count": 0,
      "outputs": []
    },
    {
      "cell_type": "code",
      "metadata": {
        "id": "liSTC7LCgrcU",
        "colab_type": "code",
        "outputId": "bf39cf0e-59c4-4ec7-ce7a-1009c53a8693",
        "colab": {
          "base_uri": "https://localhost:8080/",
          "height": 173
        }
      },
      "source": [
        "classifier = Sequential()\n",
        "classifier.add(Dense(output_dim = 6, init = 'uniform',activation='relu',input_dim = 11))"
      ],
      "execution_count": 0,
      "outputs": [
        {
          "output_type": "stream",
          "text": [
            "WARNING:tensorflow:From /usr/local/lib/python3.6/dist-packages/keras/backend/tensorflow_backend.py:66: The name tf.get_default_graph is deprecated. Please use tf.compat.v1.get_default_graph instead.\n",
            "\n",
            "WARNING:tensorflow:From /usr/local/lib/python3.6/dist-packages/keras/backend/tensorflow_backend.py:541: The name tf.placeholder is deprecated. Please use tf.compat.v1.placeholder instead.\n",
            "\n",
            "WARNING:tensorflow:From /usr/local/lib/python3.6/dist-packages/keras/backend/tensorflow_backend.py:4432: The name tf.random_uniform is deprecated. Please use tf.random.uniform instead.\n",
            "\n"
          ],
          "name": "stdout"
        },
        {
          "output_type": "stream",
          "text": [
            "/usr/local/lib/python3.6/dist-packages/ipykernel_launcher.py:2: UserWarning: Update your `Dense` call to the Keras 2 API: `Dense(activation=\"relu\", input_dim=11, units=6, kernel_initializer=\"uniform\")`\n",
            "  \n"
          ],
          "name": "stderr"
        }
      ]
    },
    {
      "cell_type": "code",
      "metadata": {
        "id": "k0FPOhRHkKhG",
        "colab_type": "code",
        "outputId": "1ebfbc6e-1eba-4373-da19-72616d34482e",
        "colab": {
          "base_uri": "https://localhost:8080/",
          "height": 71
        }
      },
      "source": [
        "classifier.add(Dense(output_dim = 6, init = 'uniform',activation='relu'))"
      ],
      "execution_count": 0,
      "outputs": [
        {
          "output_type": "stream",
          "text": [
            "/usr/local/lib/python3.6/dist-packages/ipykernel_launcher.py:1: UserWarning: Update your `Dense` call to the Keras 2 API: `Dense(activation=\"relu\", units=6, kernel_initializer=\"uniform\")`\n",
            "  \"\"\"Entry point for launching an IPython kernel.\n"
          ],
          "name": "stderr"
        }
      ]
    },
    {
      "cell_type": "code",
      "metadata": {
        "id": "zWZrJ2_9k9PT",
        "colab_type": "code",
        "outputId": "8bb34958-d007-44c4-9c38-571f63f47960",
        "colab": {
          "base_uri": "https://localhost:8080/",
          "height": 71
        }
      },
      "source": [
        "classifier.add(Dense(output_dim = 1, init = 'uniform',activation='sigmoid'))"
      ],
      "execution_count": 0,
      "outputs": [
        {
          "output_type": "stream",
          "text": [
            "/usr/local/lib/python3.6/dist-packages/ipykernel_launcher.py:1: UserWarning: Update your `Dense` call to the Keras 2 API: `Dense(activation=\"sigmoid\", units=1, kernel_initializer=\"uniform\")`\n",
            "  \"\"\"Entry point for launching an IPython kernel.\n"
          ],
          "name": "stderr"
        }
      ]
    },
    {
      "cell_type": "code",
      "metadata": {
        "id": "UP-BR4tNnRaF",
        "colab_type": "code",
        "outputId": "780900e5-e2b3-4145-c40f-dd6790805437",
        "colab": {
          "base_uri": "https://localhost:8080/",
          "height": 156
        }
      },
      "source": [
        "classifier.compile(optimizer='adam',loss='binary_crossentropy',metrics=['accuracy'])"
      ],
      "execution_count": 0,
      "outputs": [
        {
          "output_type": "stream",
          "text": [
            "WARNING:tensorflow:From /usr/local/lib/python3.6/dist-packages/keras/optimizers.py:793: The name tf.train.Optimizer is deprecated. Please use tf.compat.v1.train.Optimizer instead.\n",
            "\n",
            "WARNING:tensorflow:From /usr/local/lib/python3.6/dist-packages/keras/backend/tensorflow_backend.py:3657: The name tf.log is deprecated. Please use tf.math.log instead.\n",
            "\n",
            "WARNING:tensorflow:From /usr/local/lib/python3.6/dist-packages/tensorflow_core/python/ops/nn_impl.py:183: where (from tensorflow.python.ops.array_ops) is deprecated and will be removed in a future version.\n",
            "Instructions for updating:\n",
            "Use tf.where in 2.0, which has the same broadcast rule as np.where\n"
          ],
          "name": "stdout"
        }
      ]
    },
    {
      "cell_type": "code",
      "metadata": {
        "id": "Bpgazw9Qoigs",
        "colab_type": "code",
        "outputId": "fcde79ad-cfce-4b7f-ea4c-9b999641004e",
        "colab": {
          "base_uri": "https://localhost:8080/",
          "height": 1000
        }
      },
      "source": [
        "classifier.fit(X_train,y_train,batch_size=10,epochs=100)"
      ],
      "execution_count": 0,
      "outputs": [
        {
          "output_type": "stream",
          "text": [
            "WARNING:tensorflow:From /usr/local/lib/python3.6/dist-packages/keras/backend/tensorflow_backend.py:1033: The name tf.assign_add is deprecated. Please use tf.compat.v1.assign_add instead.\n",
            "\n",
            "WARNING:tensorflow:From /usr/local/lib/python3.6/dist-packages/keras/backend/tensorflow_backend.py:1020: The name tf.assign is deprecated. Please use tf.compat.v1.assign instead.\n",
            "\n",
            "WARNING:tensorflow:From /usr/local/lib/python3.6/dist-packages/keras/backend/tensorflow_backend.py:3005: The name tf.Session is deprecated. Please use tf.compat.v1.Session instead.\n",
            "\n",
            "Epoch 1/100\n",
            "WARNING:tensorflow:From /usr/local/lib/python3.6/dist-packages/keras/backend/tensorflow_backend.py:190: The name tf.get_default_session is deprecated. Please use tf.compat.v1.get_default_session instead.\n",
            "\n",
            "WARNING:tensorflow:From /usr/local/lib/python3.6/dist-packages/keras/backend/tensorflow_backend.py:197: The name tf.ConfigProto is deprecated. Please use tf.compat.v1.ConfigProto instead.\n",
            "\n",
            "WARNING:tensorflow:From /usr/local/lib/python3.6/dist-packages/keras/backend/tensorflow_backend.py:207: The name tf.global_variables is deprecated. Please use tf.compat.v1.global_variables instead.\n",
            "\n",
            "WARNING:tensorflow:From /usr/local/lib/python3.6/dist-packages/keras/backend/tensorflow_backend.py:216: The name tf.is_variable_initialized is deprecated. Please use tf.compat.v1.is_variable_initialized instead.\n",
            "\n",
            "WARNING:tensorflow:From /usr/local/lib/python3.6/dist-packages/keras/backend/tensorflow_backend.py:223: The name tf.variables_initializer is deprecated. Please use tf.compat.v1.variables_initializer instead.\n",
            "\n",
            "8000/8000 [==============================] - 2s 220us/step - loss: 0.4870 - acc: 0.7950\n",
            "Epoch 2/100\n",
            "8000/8000 [==============================] - 1s 119us/step - loss: 0.4293 - acc: 0.7960\n",
            "Epoch 3/100\n",
            "8000/8000 [==============================] - 1s 118us/step - loss: 0.4244 - acc: 0.7960\n",
            "Epoch 4/100\n",
            "8000/8000 [==============================] - 1s 120us/step - loss: 0.4199 - acc: 0.8112\n",
            "Epoch 5/100\n",
            "8000/8000 [==============================] - 1s 129us/step - loss: 0.4169 - acc: 0.8247\n",
            "Epoch 6/100\n",
            "8000/8000 [==============================] - 1s 125us/step - loss: 0.4151 - acc: 0.8292\n",
            "Epoch 7/100\n",
            "8000/8000 [==============================] - 1s 123us/step - loss: 0.4129 - acc: 0.8306\n",
            "Epoch 8/100\n",
            "8000/8000 [==============================] - 1s 125us/step - loss: 0.4121 - acc: 0.8320\n",
            "Epoch 9/100\n",
            "8000/8000 [==============================] - 1s 126us/step - loss: 0.4104 - acc: 0.8329\n",
            "Epoch 10/100\n",
            "8000/8000 [==============================] - 1s 125us/step - loss: 0.4099 - acc: 0.8336\n",
            "Epoch 11/100\n",
            "8000/8000 [==============================] - 1s 130us/step - loss: 0.4089 - acc: 0.8344\n",
            "Epoch 12/100\n",
            "8000/8000 [==============================] - 1s 129us/step - loss: 0.4080 - acc: 0.8344\n",
            "Epoch 13/100\n",
            "8000/8000 [==============================] - 1s 126us/step - loss: 0.4074 - acc: 0.8345\n",
            "Epoch 14/100\n",
            "8000/8000 [==============================] - 1s 125us/step - loss: 0.4071 - acc: 0.8345\n",
            "Epoch 15/100\n",
            "8000/8000 [==============================] - 1s 127us/step - loss: 0.4064 - acc: 0.8332\n",
            "Epoch 16/100\n",
            "8000/8000 [==============================] - 1s 125us/step - loss: 0.4061 - acc: 0.8349\n",
            "Epoch 17/100\n",
            "8000/8000 [==============================] - 1s 123us/step - loss: 0.4052 - acc: 0.8342\n",
            "Epoch 18/100\n",
            "8000/8000 [==============================] - 1s 125us/step - loss: 0.4053 - acc: 0.8342\n",
            "Epoch 19/100\n",
            "8000/8000 [==============================] - 1s 126us/step - loss: 0.4048 - acc: 0.8359\n",
            "Epoch 20/100\n",
            "8000/8000 [==============================] - 1s 124us/step - loss: 0.4041 - acc: 0.8344\n",
            "Epoch 21/100\n",
            "8000/8000 [==============================] - 1s 125us/step - loss: 0.4046 - acc: 0.8347\n",
            "Epoch 22/100\n",
            "8000/8000 [==============================] - 1s 128us/step - loss: 0.4040 - acc: 0.8342\n",
            "Epoch 23/100\n",
            "8000/8000 [==============================] - 1s 126us/step - loss: 0.4038 - acc: 0.8346\n",
            "Epoch 24/100\n",
            "8000/8000 [==============================] - 1s 129us/step - loss: 0.4030 - acc: 0.8349\n",
            "Epoch 25/100\n",
            "8000/8000 [==============================] - 1s 131us/step - loss: 0.4034 - acc: 0.8344\n",
            "Epoch 26/100\n",
            "8000/8000 [==============================] - 1s 129us/step - loss: 0.4029 - acc: 0.8345\n",
            "Epoch 27/100\n",
            "8000/8000 [==============================] - 1s 131us/step - loss: 0.4030 - acc: 0.8337\n",
            "Epoch 28/100\n",
            "8000/8000 [==============================] - 1s 123us/step - loss: 0.4030 - acc: 0.8341\n",
            "Epoch 29/100\n",
            "8000/8000 [==============================] - 1s 126us/step - loss: 0.4030 - acc: 0.8355\n",
            "Epoch 30/100\n",
            "8000/8000 [==============================] - 1s 125us/step - loss: 0.4025 - acc: 0.8336\n",
            "Epoch 31/100\n",
            "8000/8000 [==============================] - 1s 126us/step - loss: 0.4024 - acc: 0.8321\n",
            "Epoch 32/100\n",
            "8000/8000 [==============================] - 1s 127us/step - loss: 0.4026 - acc: 0.8344\n",
            "Epoch 33/100\n",
            "8000/8000 [==============================] - 1s 128us/step - loss: 0.4024 - acc: 0.8341\n",
            "Epoch 34/100\n",
            "8000/8000 [==============================] - 1s 123us/step - loss: 0.4019 - acc: 0.8357\n",
            "Epoch 35/100\n",
            "8000/8000 [==============================] - 1s 124us/step - loss: 0.4022 - acc: 0.8351\n",
            "Epoch 36/100\n",
            "8000/8000 [==============================] - 1s 121us/step - loss: 0.4018 - acc: 0.8351\n",
            "Epoch 37/100\n",
            "8000/8000 [==============================] - 1s 127us/step - loss: 0.4023 - acc: 0.8357\n",
            "Epoch 38/100\n",
            "8000/8000 [==============================] - 1s 127us/step - loss: 0.4020 - acc: 0.8342\n",
            "Epoch 39/100\n",
            "8000/8000 [==============================] - 1s 130us/step - loss: 0.4019 - acc: 0.8344\n",
            "Epoch 40/100\n",
            "8000/8000 [==============================] - 1s 123us/step - loss: 0.4019 - acc: 0.8354\n",
            "Epoch 41/100\n",
            "8000/8000 [==============================] - 1s 140us/step - loss: 0.4020 - acc: 0.8352\n",
            "Epoch 42/100\n",
            "8000/8000 [==============================] - 1s 125us/step - loss: 0.4017 - acc: 0.8352\n",
            "Epoch 43/100\n",
            "8000/8000 [==============================] - 1s 122us/step - loss: 0.4018 - acc: 0.8341\n",
            "Epoch 44/100\n",
            "8000/8000 [==============================] - 1s 125us/step - loss: 0.4014 - acc: 0.8349\n",
            "Epoch 45/100\n",
            "8000/8000 [==============================] - 1s 127us/step - loss: 0.4017 - acc: 0.8345\n",
            "Epoch 46/100\n",
            "8000/8000 [==============================] - 1s 126us/step - loss: 0.4014 - acc: 0.8341\n",
            "Epoch 47/100\n",
            "8000/8000 [==============================] - 1s 124us/step - loss: 0.4014 - acc: 0.8346\n",
            "Epoch 48/100\n",
            "8000/8000 [==============================] - 1s 123us/step - loss: 0.4014 - acc: 0.8344\n",
            "Epoch 49/100\n",
            "8000/8000 [==============================] - 1s 133us/step - loss: 0.4011 - acc: 0.8359\n",
            "Epoch 50/100\n",
            "8000/8000 [==============================] - 1s 134us/step - loss: 0.4017 - acc: 0.8349\n",
            "Epoch 51/100\n",
            "8000/8000 [==============================] - 1s 130us/step - loss: 0.4008 - acc: 0.8337\n",
            "Epoch 52/100\n",
            "8000/8000 [==============================] - 1s 123us/step - loss: 0.4014 - acc: 0.8331\n",
            "Epoch 53/100\n",
            "8000/8000 [==============================] - 1s 130us/step - loss: 0.4012 - acc: 0.8354\n",
            "Epoch 54/100\n",
            "8000/8000 [==============================] - 1s 124us/step - loss: 0.4011 - acc: 0.8357\n",
            "Epoch 55/100\n",
            "8000/8000 [==============================] - 1s 131us/step - loss: 0.4011 - acc: 0.8332\n",
            "Epoch 56/100\n",
            "8000/8000 [==============================] - 1s 123us/step - loss: 0.4011 - acc: 0.8341\n",
            "Epoch 57/100\n",
            "8000/8000 [==============================] - 1s 124us/step - loss: 0.4010 - acc: 0.8359\n",
            "Epoch 58/100\n",
            "8000/8000 [==============================] - 1s 125us/step - loss: 0.4009 - acc: 0.8336\n",
            "Epoch 59/100\n",
            "8000/8000 [==============================] - 1s 124us/step - loss: 0.4014 - acc: 0.8336\n",
            "Epoch 60/100\n",
            "8000/8000 [==============================] - 1s 126us/step - loss: 0.4008 - acc: 0.8336\n",
            "Epoch 61/100\n",
            "8000/8000 [==============================] - 1s 123us/step - loss: 0.4005 - acc: 0.8351\n",
            "Epoch 62/100\n",
            "8000/8000 [==============================] - 1s 122us/step - loss: 0.4007 - acc: 0.8354\n",
            "Epoch 63/100\n",
            "8000/8000 [==============================] - 1s 123us/step - loss: 0.4008 - acc: 0.8342\n",
            "Epoch 64/100\n",
            "8000/8000 [==============================] - 1s 126us/step - loss: 0.4004 - acc: 0.8331\n",
            "Epoch 65/100\n",
            "8000/8000 [==============================] - 1s 123us/step - loss: 0.4005 - acc: 0.8349\n",
            "Epoch 66/100\n",
            "8000/8000 [==============================] - 1s 124us/step - loss: 0.4001 - acc: 0.8342\n",
            "Epoch 67/100\n",
            "8000/8000 [==============================] - 1s 128us/step - loss: 0.4007 - acc: 0.8336\n",
            "Epoch 68/100\n",
            "8000/8000 [==============================] - 1s 123us/step - loss: 0.4008 - acc: 0.8354\n",
            "Epoch 69/100\n",
            "8000/8000 [==============================] - 1s 124us/step - loss: 0.4002 - acc: 0.8352\n",
            "Epoch 70/100\n",
            "8000/8000 [==============================] - 1s 129us/step - loss: 0.4006 - acc: 0.8346\n",
            "Epoch 71/100\n",
            "8000/8000 [==============================] - 1s 128us/step - loss: 0.4005 - acc: 0.8352\n",
            "Epoch 72/100\n",
            "8000/8000 [==============================] - 1s 125us/step - loss: 0.4001 - acc: 0.8357\n",
            "Epoch 73/100\n",
            "8000/8000 [==============================] - 1s 138us/step - loss: 0.4005 - acc: 0.8346\n",
            "Epoch 74/100\n",
            "8000/8000 [==============================] - 1s 134us/step - loss: 0.4005 - acc: 0.8346\n",
            "Epoch 75/100\n",
            "8000/8000 [==============================] - 1s 135us/step - loss: 0.4001 - acc: 0.8355\n",
            "Epoch 76/100\n",
            "8000/8000 [==============================] - 1s 139us/step - loss: 0.4000 - acc: 0.8352\n",
            "Epoch 77/100\n",
            "8000/8000 [==============================] - 1s 133us/step - loss: 0.4003 - acc: 0.8360\n",
            "Epoch 78/100\n",
            "8000/8000 [==============================] - 1s 136us/step - loss: 0.4003 - acc: 0.8331\n",
            "Epoch 79/100\n",
            "8000/8000 [==============================] - 1s 132us/step - loss: 0.3998 - acc: 0.8361\n",
            "Epoch 80/100\n",
            "8000/8000 [==============================] - 1s 122us/step - loss: 0.4001 - acc: 0.8354\n",
            "Epoch 81/100\n",
            "8000/8000 [==============================] - 1s 126us/step - loss: 0.4001 - acc: 0.8355\n",
            "Epoch 82/100\n",
            "8000/8000 [==============================] - 1s 124us/step - loss: 0.3998 - acc: 0.8349\n",
            "Epoch 83/100\n",
            "8000/8000 [==============================] - 1s 124us/step - loss: 0.3998 - acc: 0.8356\n",
            "Epoch 84/100\n",
            "8000/8000 [==============================] - 1s 124us/step - loss: 0.4001 - acc: 0.8356\n",
            "Epoch 85/100\n",
            "8000/8000 [==============================] - 1s 124us/step - loss: 0.4000 - acc: 0.8354\n",
            "Epoch 86/100\n",
            "8000/8000 [==============================] - 1s 125us/step - loss: 0.4005 - acc: 0.8351\n",
            "Epoch 87/100\n",
            "8000/8000 [==============================] - 1s 124us/step - loss: 0.3998 - acc: 0.8346\n",
            "Epoch 88/100\n",
            "8000/8000 [==============================] - 1s 120us/step - loss: 0.3995 - acc: 0.8342\n",
            "Epoch 89/100\n",
            "8000/8000 [==============================] - 1s 129us/step - loss: 0.4000 - acc: 0.8346\n",
            "Epoch 90/100\n",
            "8000/8000 [==============================] - 1s 124us/step - loss: 0.3997 - acc: 0.8344\n",
            "Epoch 91/100\n",
            "8000/8000 [==============================] - 1s 128us/step - loss: 0.3996 - acc: 0.8345\n",
            "Epoch 92/100\n",
            "8000/8000 [==============================] - 1s 124us/step - loss: 0.4002 - acc: 0.8351\n",
            "Epoch 93/100\n",
            "8000/8000 [==============================] - 1s 122us/step - loss: 0.3998 - acc: 0.8359\n",
            "Epoch 94/100\n",
            "8000/8000 [==============================] - 1s 126us/step - loss: 0.3999 - acc: 0.8357\n",
            "Epoch 95/100\n",
            "8000/8000 [==============================] - 1s 123us/step - loss: 0.3998 - acc: 0.8344\n",
            "Epoch 96/100\n",
            "8000/8000 [==============================] - 1s 124us/step - loss: 0.3998 - acc: 0.8350\n",
            "Epoch 97/100\n",
            "8000/8000 [==============================] - 1s 120us/step - loss: 0.3998 - acc: 0.8354\n",
            "Epoch 98/100\n",
            "8000/8000 [==============================] - 1s 121us/step - loss: 0.4003 - acc: 0.8346\n",
            "Epoch 99/100\n",
            "8000/8000 [==============================] - 1s 123us/step - loss: 0.3998 - acc: 0.8342\n",
            "Epoch 100/100\n",
            "8000/8000 [==============================] - 1s 124us/step - loss: 0.3995 - acc: 0.8332\n"
          ],
          "name": "stdout"
        },
        {
          "output_type": "execute_result",
          "data": {
            "text/plain": [
              "<keras.callbacks.History at 0x7fa7218eed68>"
            ]
          },
          "metadata": {
            "tags": []
          },
          "execution_count": 20
        }
      ]
    },
    {
      "cell_type": "code",
      "metadata": {
        "id": "2z7hr9RYpkKw",
        "colab_type": "code",
        "colab": {}
      },
      "source": [
        "y_pred = classifier.predict(X_test)"
      ],
      "execution_count": 0,
      "outputs": []
    },
    {
      "cell_type": "code",
      "metadata": {
        "id": "1CmwwG7-qj9x",
        "colab_type": "code",
        "colab": {}
      },
      "source": [
        "y_pred = (y_pred > 0.5)"
      ],
      "execution_count": 0,
      "outputs": []
    },
    {
      "cell_type": "code",
      "metadata": {
        "id": "LE_C12l-rOd8",
        "colab_type": "code",
        "outputId": "6058c100-445a-41f3-c03b-5a9db02cfa90",
        "colab": {
          "base_uri": "https://localhost:8080/",
          "height": 136
        }
      },
      "source": [
        "y_pred"
      ],
      "execution_count": 0,
      "outputs": [
        {
          "output_type": "execute_result",
          "data": {
            "text/plain": [
              "array([[False],\n",
              "       [False],\n",
              "       [False],\n",
              "       ...,\n",
              "       [False],\n",
              "       [False],\n",
              "       [False]])"
            ]
          },
          "metadata": {
            "tags": []
          },
          "execution_count": 24
        }
      ]
    },
    {
      "cell_type": "code",
      "metadata": {
        "id": "8mJurqRKrPp9",
        "colab_type": "code",
        "colab": {}
      },
      "source": [
        "from sklearn.metrics import confusion_matrix\n",
        "cm = confusion_matrix(y_test,y_pred)"
      ],
      "execution_count": 0,
      "outputs": []
    },
    {
      "cell_type": "code",
      "metadata": {
        "id": "gi7IMVLcrlt_",
        "colab_type": "code",
        "outputId": "c6873072-a386-4e34-d908-945b97834155",
        "colab": {
          "base_uri": "https://localhost:8080/",
          "height": 51
        }
      },
      "source": [
        "cm"
      ],
      "execution_count": 0,
      "outputs": [
        {
          "output_type": "execute_result",
          "data": {
            "text/plain": [
              "array([[1548,   47],\n",
              "       [ 269,  136]])"
            ]
          },
          "metadata": {
            "tags": []
          },
          "execution_count": 26
        }
      ]
    },
    {
      "cell_type": "code",
      "metadata": {
        "id": "XkyGP3Akrmd-",
        "colab_type": "code",
        "outputId": "3787657b-e297-41cf-d7eb-d9924bba6916",
        "colab": {
          "base_uri": "https://localhost:8080/",
          "height": 34
        }
      },
      "source": [
        "(1548+136)/(2000)"
      ],
      "execution_count": 0,
      "outputs": [
        {
          "output_type": "execute_result",
          "data": {
            "text/plain": [
              "0.842"
            ]
          },
          "metadata": {
            "tags": []
          },
          "execution_count": 27
        }
      ]
    },
    {
      "cell_type": "code",
      "metadata": {
        "id": "JrBdVeqWr8ek",
        "colab_type": "code",
        "colab": {}
      },
      "source": [
        " "
      ],
      "execution_count": 0,
      "outputs": []
    }
  ]
}